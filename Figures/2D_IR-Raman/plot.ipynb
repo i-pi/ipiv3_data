{
 "cells": [
  {
   "cell_type": "code",
   "execution_count": 1,
   "id": "e841b08d",
   "metadata": {},
   "outputs": [],
   "source": [
    "import numpy as np\n",
    "import os\n",
    "import matplotlib.pyplot as plt\n",
    "import matplotlib as mpl\n",
    "from matplotlib.ticker import (MultipleLocator, AutoMinorLocator, FormatStrFormatter)\n",
    "from mpl_toolkits.axes_grid1 import ImageGrid\n",
    "import matplotlib.patches as mpatches\n",
    "\n",
    "fstoau = 41.34137 # Femtosecond to a.u.\n",
    "autocm1 = 219474.63 # a.u. (Hartree energy unit) to wavenumber\n",
    "invfstocm1 = autocm1/fstoau #fs^-1 to cm^-1 conversion"
   ]
  },
  {
   "cell_type": "code",
   "execution_count": 2,
   "id": "060614b6",
   "metadata": {},
   "outputs": [],
   "source": [
    "specMD = np.loadtxt('MD.txt')\n",
    "specTRPMD = np.loadtxt('TRPMD.txt')\n",
    "\n",
    "dt = 1 * fstoau #Timestep\n",
    "nplot = 350\n",
    "dw = 2*np.pi / 2501 / dt * autocm1 #Frequency step for fft\n",
    "wmin=0 #Minimin frequency\n",
    "wmax=nplot*dw #Maximum frequency"
   ]
  },
  {
   "cell_type": "code",
   "execution_count": 3,
   "id": "822c43bf",
   "metadata": {},
   "outputs": [],
   "source": [
    "#Plot settings:\n",
    "plt.rc('font',**{'family':'sans-serif','sans-serif':['Helvetica'], 'size': 8})\n",
    "plt.rc('text', usetex=True)\n",
    "plt.rc('text.latex', preamble=r'\\usepackage[helvet]{sfmath}')\n",
    "\n",
    "\n",
    "cbarticks1 = [-0.3, -0.15, 0.0, 0.15, 0.3]\n",
    "cbarticklabels1 = ['-0.30', '-0.15', '0.00', '0.15', '0.30']\n",
    "cbarticks2 = [-0.15, -0.10, -0.05, 0.0, 0.05, 0.10, 0.15]\n",
    "cbarticklabels2 = ['-0.15', '-0.10', '-0.05', '0.00', '0.05', '0.10', '0.15']"
   ]
  },
  {
   "cell_type": "code",
   "execution_count": 4,
   "id": "6ed57e99",
   "metadata": {},
   "outputs": [
    {
     "data": {
      "image/png": "[encoded data removed]",
      "text/plain": [
       "<Figure size 330x150 with 3 Axes>"
      ]
     },
     "metadata": {},
     "output_type": "display_data"
    }
   ],
   "source": [
    "with mpl.style.context({\n",
    "    'contour.negative_linestyle': 'solid',\n",
    "    \"contour.linewidth\": 0.01,\n",
    "    'axes.linewidth': 0.4,\n",
    "    'xtick.major.size': 2.0,\n",
    "    'xtick.major.width': 0.4,\n",
    "    'xtick.minor.size': 1.0,\n",
    "    'xtick.minor.width': 0.4,\n",
    "    'ytick.major.size': 2.0,\n",
    "    'ytick.major.width': 0.4,\n",
    "    'ytick.minor.size': 1.0,\n",
    "    'ytick.minor.width': 0.4\n",
    "}):\n",
    "    fig, axs = plt.subplots(1, 2, figsize=(3.3, 1.5),  gridspec_kw={'width_ratios': [0.445, 0.555]})\n",
    "\n",
    "    for j in range(1):\n",
    "        vmin=-0.31\n",
    "        vmax=0.31\n",
    "        levels = np.arange(vmin, vmax,0.02)\n",
    "        for i in range(2):\n",
    "            spec = [specMD, specTRPMD][i]\n",
    "            ax = axs[i]\n",
    "            cs = ax.contourf(spec,levels=levels, vmin=vmin, vmax=vmax,cmap=mpl.cm.bwr, extend='both', extent=(wmin,wmax,wmin,wmax))\n",
    "            cs2 = ax.contour(spec,levels=levels, vmin=vmin, vmax=vmax,colors='tab:grey', alpha=0.4, extent=(wmin,wmax,wmin,wmax))\n",
    "            ax.set_xlim([-50, 1200])\n",
    "            ax.set_ylim([2900, 4100])\n",
    "            ax.set_aspect('equal', adjustable='box')\n",
    "            ax.set_title([r'Classical MD', r'TRPMD'][i], x = 0.45, y = 0.99, fontsize = 8)\n",
    "            ax.xaxis.set_ticks_position('both')\n",
    "            ax.yaxis.set_ticks_position('both')\n",
    "            ax.tick_params(which='both', direction='in', labelleft = [True, False][i])\n",
    "            ax.xaxis.set_major_locator(MultipleLocator(500))\n",
    "            ax.xaxis.set_minor_locator(MultipleLocator(100))\n",
    "            ax.yaxis.set_major_locator(MultipleLocator(500))\n",
    "            ax.yaxis.set_minor_locator(MultipleLocator(250))\n",
    "        cbar = fig.colorbar(cs, ax=ax, shrink = 0.65, location = 'right', aspect = 15, extendrect=True)\n",
    "        cbar.add_lines(cs2)\n",
    "        cbar.ax.set_ylabel(r'$R(\\omega_1, \\omega_2) [10^6 \\ \\rm au]$', labelpad = 10.5, rotation=270)\n",
    "        cbar.set_ticks([cbarticks1, cbarticks2][j])\n",
    "        cbar.set_ticklabels([cbarticklabels1, cbarticklabels2][j])\n",
    "        for t in cbar.ax.get_yticklabels():\n",
    "            t.set_horizontalalignment('right')\n",
    "            t.set_x(4.5)\n",
    "\n",
    "    plt.subplots_adjust(left=0.17,\n",
    "                        bottom=0.03,\n",
    "                        right=0.87,\n",
    "                        top=1.02,\n",
    "                        wspace=0.05,\n",
    "                        hspace=-0.2)\n",
    "\n",
    "    fig.text(0.02, 0.53, r'$\\omega_2 / 2 \\pi c\\ [{\\rm cm}^{-1}]$', va='center', rotation='vertical')\n",
    "    fig.text(0.5, 0.015, r'$\\omega_1 / 2 \\pi c\\ [{\\rm cm}^{-1}]$', ha='center')\n",
    "\n",
    "    plt.savefig('plot.svg')"
   ]
  },
  {
   "cell_type": "code",
   "execution_count": 5,
   "id": "12faadbd",
   "metadata": {},
   "outputs": [],
   "source": [
    "from svgutils.compose import *\n",
    "\n",
    "#create new SVG figure\n",
    "fig = Figure('300', '250',\n",
    "    Panel(\n",
    "        SVG('Scheme.svg').scale(0.97),\n",
    "        Text(\"(a)\", 5, 20, size=12)\n",
    "        ), \n",
    "    Panel(\n",
    "        SVG('plot.svg').scale(1.24),\n",
    "        Text(\"(b)\", 0, 10, size=12)\n",
    "        ).move(5, 110)\n",
    "    )\n",
    "\n",
    "fig.save(\"2D_IR_Raman.svg\")\n",
    "\n",
    "#SVG file can be converted to PDF using Inkscape."
   ]
  }
 ],
 "metadata": {
  "kernelspec": {
   "display_name": "Python 3 (ipykernel)",
   "language": "python",
   "name": "python3"
  },
  "language_info": {
   "codemirror_mode": {
    "name": "ipython",
    "version": 3
   },
   "file_extension": ".py",
   "mimetype": "text/x-python",
   "name": "python",
   "nbconvert_exporter": "python",
   "pygments_lexer": "ipython3",
   "version": "3.9.12"
  }
 },
 "nbformat": 4,
 "nbformat_minor": 5
}
